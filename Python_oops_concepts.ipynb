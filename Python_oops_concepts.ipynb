{
  "nbformat": 4,
  "nbformat_minor": 0,
  "metadata": {
    "colab": {
      "provenance": [],
      "authorship_tag": "ABX9TyMsbZL201zq2voZ3aykliu7",
      "include_colab_link": true
    },
    "kernelspec": {
      "name": "python3",
      "display_name": "Python 3"
    },
    "language_info": {
      "name": "python"
    }
  },
  "cells": [
    {
      "cell_type": "markdown",
      "metadata": {
        "id": "view-in-github",
        "colab_type": "text"
      },
      "source": [
        "<a href=\"https://colab.research.google.com/github/rabiyulfahimhasim786/data-engineering-learning/blob/development/Python_oops_concepts.ipynb\" target=\"_parent\"><img src=\"https://colab.research.google.com/assets/colab-badge.svg\" alt=\"Open In Colab\"/></a>"
      ]
    },
    {
      "cell_type": "markdown",
      "source": [
        "# **Python Syntax**\n",
        "\n",
        "# Execute Python Syntax"
      ],
      "metadata": {
        "id": "KnIsfLOgctNy"
      }
    },
    {
      "cell_type": "code",
      "execution_count": 1,
      "metadata": {
        "colab": {
          "base_uri": "https://localhost:8080/"
        },
        "id": "aTYohlvTcXAp",
        "outputId": "3c080476-fdb0-477c-8372-d3de3a1bc73d"
      },
      "outputs": [
        {
          "output_type": "stream",
          "name": "stdout",
          "text": [
            "hello World\n",
            "hello, world\n"
          ]
        }
      ],
      "source": [
        "print('hello World')\n",
        "print('hello, world')"
      ]
    },
    {
      "cell_type": "markdown",
      "source": [
        "# **Python Indentation**\n",
        "\n",
        "Indentation refers to the spaces at the beginning of a code line.\n",
        "\n",
        "Where in other programming languages the indentation in code is for readability only, the indentation in Python is very important.\n",
        "\n",
        "Python uses indentation to indicate a block of code."
      ],
      "metadata": {
        "id": "6i7SoL9RdEJR"
      }
    },
    {
      "cell_type": "code",
      "source": [
        "if 7>3:\n",
        "print(\"7 is greater than 3\")"
      ],
      "metadata": {
        "colab": {
          "base_uri": "https://localhost:8080/",
          "height": 140
        },
        "id": "iwketCOXc-DZ",
        "outputId": "5872b4e0-02b3-4645-ac04-5fa8cfe2c8d4"
      },
      "execution_count": 2,
      "outputs": [
        {
          "output_type": "error",
          "ename": "IndentationError",
          "evalue": "ignored",
          "traceback": [
            "\u001b[0;36m  File \u001b[0;32m\"<ipython-input-2-6659851f7916>\"\u001b[0;36m, line \u001b[0;32m2\u001b[0m\n\u001b[0;31m    print(\"7 is greater than 3\")\u001b[0m\n\u001b[0m    ^\u001b[0m\n\u001b[0;31mIndentationError\u001b[0m\u001b[0;31m:\u001b[0m expected an indented block after 'if' statement on line 1\n"
          ]
        }
      ]
    },
    {
      "cell_type": "code",
      "source": [
        "if 7>3:\n",
        "  print(\"7 is greater than 3\")"
      ],
      "metadata": {
        "colab": {
          "base_uri": "https://localhost:8080/"
        },
        "id": "f-rtO7PDdUe6",
        "outputId": "acaab556-13be-42ee-a122-a523721fec99"
      },
      "execution_count": 3,
      "outputs": [
        {
          "output_type": "stream",
          "name": "stdout",
          "text": [
            "7 is greater than 3\n"
          ]
        }
      ]
    },
    {
      "cell_type": "markdown",
      "source": [
        "# **Comments**\n",
        "Comments can be used to explain Python code.\n",
        "\n",
        "Comments can be used to make the code more readable.\n",
        "\n",
        "Comments can be used to prevent execution when testing code.\n",
        "\n",
        "**Creating a Comment**\n",
        "\n",
        "Comments starts with a #, and Python will ignore them:"
      ],
      "metadata": {
        "id": "91NyMo2HdZLQ"
      }
    },
    {
      "cell_type": "code",
      "source": [
        "print('hello')\n",
        "# print('hello')"
      ],
      "metadata": {
        "colab": {
          "base_uri": "https://localhost:8080/"
        },
        "id": "HuJYFEkDdodY",
        "outputId": "ffced635-0d5c-4d4d-9e2b-d82e5f1bd4b3"
      },
      "execution_count": 5,
      "outputs": [
        {
          "output_type": "stream",
          "name": "stdout",
          "text": [
            "hello\n"
          ]
        }
      ]
    },
    {
      "cell_type": "markdown",
      "source": [
        "# **Multiline Comments**\n",
        "Python does not really have a syntax for multiline comments.\n",
        "\n",
        "To add a multiline comment you could insert a # for each line:\n",
        "\n",
        "Since Python will ignore string literals that are not assigned to a variable, you can add a multiline string (triple quotes) in your code, and place your comment inside it:"
      ],
      "metadata": {
        "id": "pUakbyg3dvcm"
      }
    },
    {
      "cell_type": "code",
      "source": [
        "\"\"\"\n",
        "This is a\n",
        "multi line\n",
        "comment\n",
        "\"\"\"\n",
        "print(\"hello\")"
      ],
      "metadata": {
        "colab": {
          "base_uri": "https://localhost:8080/"
        },
        "id": "8hXu-xL_d6WW",
        "outputId": "49f6b312-4fe3-4cc3-bc92-b0540802d977"
      },
      "execution_count": 8,
      "outputs": [
        {
          "output_type": "stream",
          "name": "stdout",
          "text": [
            "hello\n"
          ]
        }
      ]
    },
    {
      "cell_type": "markdown",
      "source": [
        "# **Variables**\n",
        "Variables are containers for storing data values.\n",
        "# **Creating Variables**\n",
        "Python has no command for declaring a variable.\n",
        "\n",
        "A variable is created the moment you first assign a value to it."
      ],
      "metadata": {
        "id": "v1D1Fg18eFKh"
      }
    },
    {
      "cell_type": "code",
      "source": [
        "x = 1 # integer\n",
        "y = 'rabiyul' # string\n",
        "print(x)\n",
        "print(y)"
      ],
      "metadata": {
        "colab": {
          "base_uri": "https://localhost:8080/"
        },
        "id": "a4KNfgHIeE1W",
        "outputId": "de1ddf77-0a79-4905-9154-578183f89cc8"
      },
      "execution_count": 9,
      "outputs": [
        {
          "output_type": "stream",
          "name": "stdout",
          "text": [
            "1\n",
            "rabiyul\n"
          ]
        }
      ]
    },
    {
      "cell_type": "code",
      "source": [
        "a = 8      # x is of type int\n",
        "b = \"Rabiyul\" # x is now of type str\n",
        "print(a,b)"
      ],
      "metadata": {
        "colab": {
          "base_uri": "https://localhost:8080/"
        },
        "id": "94H-PBhqeYZc",
        "outputId": "a12386c4-7d5d-4d97-96c4-339b4b7d4a43"
      },
      "execution_count": 11,
      "outputs": [
        {
          "output_type": "stream",
          "name": "stdout",
          "text": [
            "8 Rabiyul\n"
          ]
        }
      ]
    },
    {
      "cell_type": "markdown",
      "source": [
        "# **Casting**"
      ],
      "metadata": {
        "id": "NlXL68i4fPwk"
      }
    },
    {
      "cell_type": "code",
      "source": [
        "a = str(3)    # a will be '3'\n",
        "b = int(3)    # b will be 3\n",
        "c = float(3)  # c will be 3.0"
      ],
      "metadata": {
        "id": "90ZYZm5YfSpZ"
      },
      "execution_count": 12,
      "outputs": []
    },
    {
      "cell_type": "code",
      "source": [
        "x = 1 # integer\n",
        "y = 'rabiyul' # string\n",
        "print(type(x))\n",
        "print(type(y))\n",
        "z = type(x)\n",
        "print(z)"
      ],
      "metadata": {
        "colab": {
          "base_uri": "https://localhost:8080/"
        },
        "id": "UjNPX2t7faTY",
        "outputId": "56062655-22ff-4ea8-de24-3af6ade7b66f"
      },
      "execution_count": 14,
      "outputs": [
        {
          "output_type": "stream",
          "name": "stdout",
          "text": [
            "<class 'int'>\n",
            "<class 'str'>\n",
            "<class 'int'>\n"
          ]
        }
      ]
    },
    {
      "cell_type": "markdown",
      "source": [
        "# **Single or Double Quotes?**\n",
        "String variables can be declared either by using single or double quotes:"
      ],
      "metadata": {
        "id": "JP2q1maIfst5"
      }
    },
    {
      "cell_type": "code",
      "source": [
        "a = \"rabiyul\"\n",
        "a = 'rabiyul'\n",
        "print(a)"
      ],
      "metadata": {
        "colab": {
          "base_uri": "https://localhost:8080/"
        },
        "id": "_dZD8ldifsM6",
        "outputId": "50fd5dc9-7da2-4290-c8bc-c8292842c6fa"
      },
      "execution_count": 15,
      "outputs": [
        {
          "output_type": "stream",
          "name": "stdout",
          "text": [
            "rabiyul\n"
          ]
        }
      ]
    },
    {
      "cell_type": "markdown",
      "source": [
        "# **Case-Sensitive**\n",
        "Variable names are case-sensitive."
      ],
      "metadata": {
        "id": "j_6b9q4hf5Kx"
      }
    },
    {
      "cell_type": "code",
      "source": [
        "x = 786\n",
        "X = \"Rabi\"\n",
        "# X will not overwrite x\n",
        "print(X, x)"
      ],
      "metadata": {
        "colab": {
          "base_uri": "https://localhost:8080/"
        },
        "id": "Mkp1e2jQfaZz",
        "outputId": "ff3d148f-32cd-4905-d72c-5014d933b221"
      },
      "execution_count": 16,
      "outputs": [
        {
          "output_type": "stream",
          "name": "stdout",
          "text": [
            "Rabi 786\n"
          ]
        }
      ]
    },
    {
      "cell_type": "markdown",
      "source": [
        "# **Many Values to Multiple Variables**\n",
        "Python allows you to assign values to multiple variables in one line:\n"
      ],
      "metadata": {
        "id": "0hiREpADgkJm"
      }
    },
    {
      "cell_type": "code",
      "source": [
        "a, b, c = 'Mango', 'Cherry', 'Banana'\n",
        "print(a)\n",
        "print(b)\n",
        "print(c)"
      ],
      "metadata": {
        "colab": {
          "base_uri": "https://localhost:8080/"
        },
        "id": "kKtAB1nAglN9",
        "outputId": "5a8cdeb6-5e71-497c-f863-2d5b41721a5d"
      },
      "execution_count": 18,
      "outputs": [
        {
          "output_type": "stream",
          "name": "stdout",
          "text": [
            "Mango\n",
            "Cherry\n",
            "Banana\n"
          ]
        }
      ]
    },
    {
      "cell_type": "markdown",
      "source": [
        "# **One Value to Multiple Variables**\n",
        "And you can assign the same value to multiple variables in one line:"
      ],
      "metadata": {
        "id": "65u-YLhhhvKl"
      }
    },
    {
      "cell_type": "code",
      "source": [
        "a =b= c =  'Cherry'\n",
        "print(a)\n",
        "print(b)\n",
        "print(c)"
      ],
      "metadata": {
        "colab": {
          "base_uri": "https://localhost:8080/"
        },
        "id": "8M3lo3AChjDW",
        "outputId": "46641e6c-834d-464c-fc7a-763da61890d6"
      },
      "execution_count": 19,
      "outputs": [
        {
          "output_type": "stream",
          "name": "stdout",
          "text": [
            "Cherry\n",
            "Cherry\n",
            "Cherry\n"
          ]
        }
      ]
    },
    {
      "cell_type": "markdown",
      "source": [
        "# **Unpack a Collection**\n",
        "If you have a collection of values in a list, tuple etc. Python allows you to extract the values into variables. This is called unpacking."
      ],
      "metadata": {
        "id": "XRJGUoUmhsqk"
      }
    },
    {
      "cell_type": "code",
      "source": [
        "fruities =  ['Mango', 'Cherry', 'Banana']\n",
        "print(fruities)\n",
        "a,b,c =fruities\n",
        "print(a)\n",
        "print(b)\n",
        "print(c)"
      ],
      "metadata": {
        "colab": {
          "base_uri": "https://localhost:8080/"
        },
        "id": "DcuE1X0th4oD",
        "outputId": "a7255cb5-62ca-4d07-9c0f-5338954fbd6f"
      },
      "execution_count": 20,
      "outputs": [
        {
          "output_type": "stream",
          "name": "stdout",
          "text": [
            "['Mango', 'Cherry', 'Banana']\n",
            "Mango\n",
            "Cherry\n",
            "Banana\n"
          ]
        }
      ]
    },
    {
      "cell_type": "markdown",
      "source": [
        "# **Output Variables**\n",
        "The Python print() function is often used to output variables."
      ],
      "metadata": {
        "id": "kxjgV_-ziqyi"
      }
    },
    {
      "cell_type": "code",
      "source": [
        "print('Python is cool')\n",
        "x = 'python'\n",
        "y = 'is'\n",
        "z = 'cool'\n",
        "print(x,y,z)\n",
        "a = 'python '\n",
        "b = 'is '\n",
        "c = 'cool '\n",
        "print(a+b+c)"
      ],
      "metadata": {
        "colab": {
          "base_uri": "https://localhost:8080/"
        },
        "id": "Lk59ZTElieU-",
        "outputId": "c6ee9a5d-5d7c-4316-f735-ce3427d16be8"
      },
      "execution_count": 24,
      "outputs": [
        {
          "output_type": "stream",
          "name": "stdout",
          "text": [
            "Python is cool\n",
            "python is cool\n",
            "python is cool \n"
          ]
        }
      ]
    },
    {
      "cell_type": "markdown",
      "source": [
        "# **Global Variables**\n",
        "Variables that are created outside of a function (as in all of the examples above) are known as global variables.\n",
        "\n",
        "Global variables can be used by everyone, both inside of functions and outside."
      ],
      "metadata": {
        "id": "_lWXuE_olnoD"
      }
    },
    {
      "cell_type": "code",
      "source": [
        "a = \"cool\"\n",
        "\n",
        "def onefunction():\n",
        "  print(\"python is \"+ a)\n",
        "\n",
        "\n",
        "onefunction()"
      ],
      "metadata": {
        "colab": {
          "base_uri": "https://localhost:8080/"
        },
        "id": "vZAIKL6Elp90",
        "outputId": "0871b1ce-decd-42e0-bcd2-a23f656a8324"
      },
      "execution_count": 25,
      "outputs": [
        {
          "output_type": "stream",
          "name": "stdout",
          "text": [
            "python is cool\n"
          ]
        }
      ]
    },
    {
      "cell_type": "code",
      "source": [
        "a = \"cool\"\n",
        "\n",
        "def onefunction():\n",
        "  a = \"Easy to learn\"\n",
        "  print(\"python is \"+ a)\n",
        "\n",
        "\n",
        "onefunction()\n",
        "\n",
        "print(\"Python is \"+ a)"
      ],
      "metadata": {
        "colab": {
          "base_uri": "https://localhost:8080/"
        },
        "id": "Ybc3aqV_iw-i",
        "outputId": "c6d47189-5146-4107-bf9c-6f5bdc6bf296"
      },
      "execution_count": 26,
      "outputs": [
        {
          "output_type": "stream",
          "name": "stdout",
          "text": [
            "python is Easy to learn\n",
            "Python is cool\n"
          ]
        }
      ]
    },
    {
      "cell_type": "code",
      "source": [
        "# a = \"cool\"\n",
        "\n",
        "def onefunction():\n",
        "  global a\n",
        "  a = \"cool\"\n",
        "  print(\"python is \"+ a)\n",
        "\n",
        "\n",
        "onefunction()\n",
        "print(\"python is \"+ a)"
      ],
      "metadata": {
        "colab": {
          "base_uri": "https://localhost:8080/"
        },
        "id": "XdTb1fegmhAL",
        "outputId": "a18c43dc-82a1-4b77-83bd-a0d07434f04b"
      },
      "execution_count": 30,
      "outputs": [
        {
          "output_type": "stream",
          "name": "stdout",
          "text": [
            "python is cool\n",
            "python is cool\n"
          ]
        }
      ]
    },
    {
      "cell_type": "markdown",
      "source": [
        "# **Built-in Data Types**\n",
        "In programming, data type is an important concept.\n",
        "\n",
        "Variables can store data of different types, and different types can do different things.\n",
        "\n",
        "**Python has the following data types built-in by default, in these categories:**\n",
        "\n",
        "Text Type:\tstr\n",
        "Numeric Types:\tint, float, complex\n",
        "Sequence Types:\tlist, tuple, range\n",
        "Mapping Type:\tdict\n",
        "Set Types:\tset, frozenset\n",
        "Boolean Type:\tbool\n",
        "Binary Types:\tbytes, bytearray, memoryview\n",
        "None Type:\tNoneType\n",
        "Getting the Data Type\n",
        "You can get the data type of any object by using the type() function:"
      ],
      "metadata": {
        "id": "bg6oLXpRpnOH"
      }
    },
    {
      "cell_type": "markdown",
      "source": [
        "**Pass**"
      ],
      "metadata": {
        "id": "EveGBPL0qSaw"
      }
    },
    {
      "cell_type": "markdown",
      "source": [
        "# **Python Conditions and If statements**\n",
        "Python supports the usual logical conditions from mathematics:\n",
        "\n",
        "Equals: a == b\n",
        "Not Equals: a != b\n",
        "Less than: a < b\n",
        "Less than or equal to: a <= b\n",
        "Greater than: a > b\n",
        "Greater than or equal to: a >= b\n",
        "These conditions can be used in several ways, most commonly in \"if statements\" and loops.\n",
        "\n",
        "An \"if statement\" is written by using the if keyword."
      ],
      "metadata": {
        "id": "EtpJRodiqUtM"
      }
    },
    {
      "cell_type": "code",
      "source": [
        "a = 50\n",
        "b = 100\n",
        "if b > a:\n",
        "  print(\"b is greater than a\")"
      ],
      "metadata": {
        "colab": {
          "base_uri": "https://localhost:8080/"
        },
        "id": "If0dzMahqB9Z",
        "outputId": "f69f2e85-0c04-4066-d947-eb9ee0f08930"
      },
      "execution_count": 32,
      "outputs": [
        {
          "output_type": "stream",
          "name": "stdout",
          "text": [
            "b is greater than a\n"
          ]
        }
      ]
    },
    {
      "cell_type": "code",
      "source": [
        "a = 100\n",
        "b = 100\n",
        "if b > a:\n",
        "  print(\"b is greater than a\")\n",
        "elif a == b:\n",
        "  print(\"a and b are equal\")"
      ],
      "metadata": {
        "colab": {
          "base_uri": "https://localhost:8080/"
        },
        "id": "ioIg3v92qSBI",
        "outputId": "4033aaf3-1557-4bd9-d5bc-bb96811fb8cb"
      },
      "execution_count": 34,
      "outputs": [
        {
          "output_type": "stream",
          "name": "stdout",
          "text": [
            "a and b are equal\n"
          ]
        }
      ]
    },
    {
      "cell_type": "code",
      "source": [
        "a = 200\n",
        "b = 46\n",
        "if b>a:\n",
        "  print(\"b is greater than a\")\n",
        "elif a == b:\n",
        "  print(\"b is equal to a \")\n",
        "else:\n",
        "  print(\"a is greater than b\")"
      ],
      "metadata": {
        "colab": {
          "base_uri": "https://localhost:8080/"
        },
        "id": "7ElGZbVDrv8z",
        "outputId": "e2882ac5-0ca2-461b-c8fe-1c7092e54444"
      },
      "execution_count": 37,
      "outputs": [
        {
          "output_type": "stream",
          "name": "stdout",
          "text": [
            "a is greater than b\n"
          ]
        }
      ]
    },
    {
      "cell_type": "code",
      "source": [
        "a = 200\n",
        "b = 46\n",
        "c = 1000\n",
        "if a > b and c > a:\n",
        "  print(\"Both conditions are True\")"
      ],
      "metadata": {
        "colab": {
          "base_uri": "https://localhost:8080/"
        },
        "id": "3RFkvdAxsfWg",
        "outputId": "450c0228-42cd-4f90-b9f0-f8db31426b41"
      },
      "execution_count": 38,
      "outputs": [
        {
          "output_type": "stream",
          "name": "stdout",
          "text": [
            "Both conditions are True\n"
          ]
        }
      ]
    },
    {
      "cell_type": "code",
      "source": [
        "a = 200\n",
        "b = 46\n",
        "c = 1000\n",
        "if a > b or c > a:\n",
        "  print(\"Both conditions are True\")"
      ],
      "metadata": {
        "colab": {
          "base_uri": "https://localhost:8080/"
        },
        "id": "nHKX-ROcsxI4",
        "outputId": "f9048570-74ea-4b78-ba86-8d97673afaab"
      },
      "execution_count": 39,
      "outputs": [
        {
          "output_type": "stream",
          "name": "stdout",
          "text": [
            "Both conditions are True\n"
          ]
        }
      ]
    },
    {
      "cell_type": "code",
      "source": [
        "a = 200\n",
        "b = 46\n",
        "if not a>b:\n",
        "  print(\" a is not greater than b\")"
      ],
      "metadata": {
        "id": "OWxS1EfFtKmp"
      },
      "execution_count": 48,
      "outputs": []
    },
    {
      "cell_type": "code",
      "source": [
        "a = 200\n",
        "b = 46\n",
        "if b>a:\n",
        "  pass"
      ],
      "metadata": {
        "id": "G0liPP_7tmJ5"
      },
      "execution_count": 47,
      "outputs": []
    },
    {
      "cell_type": "markdown",
      "source": [
        "# **Python Loops**\n",
        "Python has two primitive loop commands:\n",
        "\n",
        "while loops\n",
        "for loops\n",
        "The while Loop\n",
        "With the while loop we can execute a set of statements as long as a condition is true."
      ],
      "metadata": {
        "id": "Wy1_x51wt-O_"
      }
    },
    {
      "cell_type": "code",
      "source": [
        "i = 1\n",
        "while i < 7:\n",
        "  print(i)\n",
        "  i+=1"
      ],
      "metadata": {
        "colab": {
          "base_uri": "https://localhost:8080/"
        },
        "id": "2yErVZyuuGtf",
        "outputId": "69a89819-606f-442c-bf3a-42fe72c57a48"
      },
      "execution_count": 50,
      "outputs": [
        {
          "output_type": "stream",
          "name": "stdout",
          "text": [
            "1\n",
            "2\n",
            "3\n",
            "4\n",
            "5\n",
            "6\n"
          ]
        }
      ]
    },
    {
      "cell_type": "code",
      "source": [
        "i = 0\n",
        "while i < 7:\n",
        "  print(i)\n",
        "  if i ==2:\n",
        "    break\n",
        "  i +=1"
      ],
      "metadata": {
        "colab": {
          "base_uri": "https://localhost:8080/"
        },
        "id": "OlTbAN-CvVTS",
        "outputId": "01bf1bfb-973c-4ce4-a74e-b792df6304dc"
      },
      "execution_count": 56,
      "outputs": [
        {
          "output_type": "stream",
          "name": "stdout",
          "text": [
            "0\n",
            "1\n",
            "2\n"
          ]
        }
      ]
    },
    {
      "cell_type": "code",
      "source": [
        "i = 0\n",
        "while i < 7:\n",
        "  i +=2\n",
        "  if i ==2:\n",
        "    continue\n",
        "  print(i)"
      ],
      "metadata": {
        "colab": {
          "base_uri": "https://localhost:8080/"
        },
        "id": "3d4c8Ui4yiyL",
        "outputId": "87cc2555-9798-4118-bac4-ca2342936765"
      },
      "execution_count": 60,
      "outputs": [
        {
          "output_type": "stream",
          "name": "stdout",
          "text": [
            "4\n",
            "6\n",
            "8\n"
          ]
        }
      ]
    }
  ]
}